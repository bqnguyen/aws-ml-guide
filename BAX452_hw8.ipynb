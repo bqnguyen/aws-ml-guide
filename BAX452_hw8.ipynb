{
  "nbformat": 4,
  "nbformat_minor": 0,
  "metadata": {
    "colab": {
      "name": "BAX452-hw8.ipynb",
      "version": "0.3.2",
      "provenance": [],
      "collapsed_sections": [],
      "include_colab_link": true
    },
    "kernelspec": {
      "name": "python3",
      "display_name": "Python 3"
    }
  },
  "cells": [
    {
      "cell_type": "markdown",
      "metadata": {
        "id": "view-in-github",
        "colab_type": "text"
      },
      "source": [
        "<a href=\"https://colab.research.google.com/github/bqnguyen/aws-ml-guide/blob/master/BAX452_hw8.ipynb\" target=\"_parent\"><img src=\"https://colab.research.google.com/assets/colab-badge.svg\" alt=\"Open In Colab\"/></a>"
      ]
    },
    {
      "metadata": {
        "id": "Ay21wfUYigBZ",
        "colab_type": "code",
        "colab": {}
      },
      "cell_type": "code",
      "source": [
        ""
      ],
      "execution_count": 0,
      "outputs": []
    },
    {
      "metadata": {
        "id": "BtjnZm1him2Z",
        "colab_type": "code",
        "colab": {}
      },
      "cell_type": "code",
      "source": [
        ""
      ],
      "execution_count": 0,
      "outputs": []
    },
    {
      "metadata": {
        "id": "CTCzx_rriogR",
        "colab_type": "text"
      },
      "cell_type": "markdown",
      "source": [
        "# Loading Results from Google **AutoM**L"
      ]
    },
    {
      "metadata": {
        "id": "xLVFSnZkisxI",
        "colab_type": "text"
      },
      "cell_type": "markdown",
      "source": [
        ""
      ]
    },
    {
      "metadata": {
        "id": "XCLmPSc2jLnN",
        "colab_type": "text"
      },
      "cell_type": "markdown",
      "source": [
        ""
      ]
    },
    {
      "metadata": {
        "id": "N1CNrAeLikGy",
        "colab_type": "text"
      },
      "cell_type": "markdown",
      "source": [
        "<img src=\"http://siliconvalleyfreetutoring.org/img/clip_image001.png?format=250w\" >\n"
      ]
    },
    {
      "metadata": {
        "id": "NJ_5gGyDjSAa",
        "colab_type": "text"
      },
      "cell_type": "markdown",
      "source": [
        "# Train **Result**"
      ]
    },
    {
      "metadata": {
        "id": "-RviHxu3jTh3",
        "colab_type": "text"
      },
      "cell_type": "markdown",
      "source": [
        ""
      ]
    },
    {
      "metadata": {
        "id": "DcZm4m7cjNHP",
        "colab_type": "text"
      },
      "cell_type": "markdown",
      "source": [
        "<img src=\"http://siliconvalleyfreetutoring.org/img/clip_image002.png?format=250w\" >"
      ]
    },
    {
      "metadata": {
        "id": "Fwmq5CQRjany",
        "colab_type": "text"
      },
      "cell_type": "markdown",
      "source": [
        "# **Validation**"
      ]
    },
    {
      "metadata": {
        "id": "KLzTRqBTjb7Y",
        "colab_type": "text"
      },
      "cell_type": "markdown",
      "source": [
        ""
      ]
    },
    {
      "metadata": {
        "id": "IM2IuUS5jV_G",
        "colab_type": "text"
      },
      "cell_type": "markdown",
      "source": [
        "<img src=\"http://siliconvalleyfreetutoring.org/img/clip_image003.png?format=250w\" >"
      ]
    },
    {
      "metadata": {
        "id": "XaU-HD7wjdTi",
        "colab_type": "text"
      },
      "cell_type": "markdown",
      "source": [
        "<img src=\"http://siliconvalleyfreetutoring.org/img/clip_image004.png?format=250w\" >"
      ]
    },
    {
      "metadata": {
        "id": "vsCQY-f8jjuu",
        "colab_type": "text"
      },
      "cell_type": "markdown",
      "source": [
        "# **Conclusion**"
      ]
    },
    {
      "metadata": {
        "id": "SgFa_UjSjmDe",
        "colab_type": "text"
      },
      "cell_type": "markdown",
      "source": [
        "Accuracy is almost 100%. So impressive. The tool is great, but I feel like it can cost a lot of money. I think I saw you mentioned about maybe in the future we don't need to spend time on developing another algorthm, just add value from the revenue generation perspective or management perspective.\n"
      ]
    }
  ]
}